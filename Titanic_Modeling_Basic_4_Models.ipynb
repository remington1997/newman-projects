{
 "cells": [
  {
   "cell_type": "markdown",
   "metadata": {
    "id": "WIIjcoy499Ar"
   },
   "source": [
    "# Titanic Modeling: Basic Version - 4 Models\n",
    "**by Remington Greider-Little**<br/>\n",
    "**Data Analytics @ Newman University**\n",
    "\n",
    "**Data:** A previously cleaned version of [the Titanic data set from Kaggle](https://www.kaggle.com/c/titanic/overview).\n",
    "\n",
    "**This Notebook:** This is crafted as a demonstration of a standard machine learning training and testing process.\n",
    "\n",
    "**Contents:**\n",
    "1. Read and Review Data\n",
    "2. Prepare Data Splits\n",
    "3. Train Models\n",
    "4. Test Models"
   ]
  },
  {
   "cell_type": "code",
   "execution_count": 8,
   "metadata": {
    "id": "RGcFM8GR99Av"
   },
   "outputs": [],
   "source": [
    "# Essential Libraries\n",
    "import numpy as np\n",
    "import pandas as pd\n",
    "\n",
    "# Libraries for Machine Learning Process\n",
    "from sklearn.model_selection import train_test_split\n",
    "from sklearn.metrics import accuracy_score\n",
    "\n",
    "# Algorithms\n",
    "from sklearn.linear_model import LogisticRegression\n",
    "from sklearn.tree import DecisionTreeClassifier\n",
    "from sklearn.ensemble import RandomForestClassifier\n",
    "from sklearn.ensemble import GradientBoostingClassifier"
   ]
  },
  {
   "cell_type": "markdown",
   "metadata": {
    "id": "vHp63oGi99Ax"
   },
   "source": [
    "# 1. Read and Review Data\n",
    "\n",
    "This data has been cleaned in a previous EDA and preparation process."
   ]
  },
  {
   "cell_type": "code",
   "execution_count": 9,
   "metadata": {
    "colab": {
     "base_uri": "https://localhost:8080/",
     "height": 363
    },
    "id": "JGPNqlEh99Ay",
    "outputId": "e7acf74d-b5f9-4eb9-c3f5-953378634645"
   },
   "outputs": [
    {
     "data": {
      "text/html": [
       "<div>\n",
       "<style scoped>\n",
       "    .dataframe tbody tr th:only-of-type {\n",
       "        vertical-align: middle;\n",
       "    }\n",
       "\n",
       "    .dataframe tbody tr th {\n",
       "        vertical-align: top;\n",
       "    }\n",
       "\n",
       "    .dataframe thead th {\n",
       "        text-align: right;\n",
       "    }\n",
       "</style>\n",
       "<table border=\"1\" class=\"dataframe\">\n",
       "  <thead>\n",
       "    <tr style=\"text-align: right;\">\n",
       "      <th></th>\n",
       "      <th>Survived</th>\n",
       "      <th>Pclass</th>\n",
       "      <th>Sex</th>\n",
       "      <th>Age</th>\n",
       "      <th>Fare</th>\n",
       "      <th>Family_count</th>\n",
       "      <th>Cabin_ind</th>\n",
       "    </tr>\n",
       "  </thead>\n",
       "  <tbody>\n",
       "    <tr>\n",
       "      <th>0</th>\n",
       "      <td>0</td>\n",
       "      <td>3</td>\n",
       "      <td>0</td>\n",
       "      <td>22.000000</td>\n",
       "      <td>7.2500</td>\n",
       "      <td>1</td>\n",
       "      <td>0</td>\n",
       "    </tr>\n",
       "    <tr>\n",
       "      <th>1</th>\n",
       "      <td>1</td>\n",
       "      <td>1</td>\n",
       "      <td>1</td>\n",
       "      <td>38.000000</td>\n",
       "      <td>71.2833</td>\n",
       "      <td>1</td>\n",
       "      <td>1</td>\n",
       "    </tr>\n",
       "    <tr>\n",
       "      <th>2</th>\n",
       "      <td>1</td>\n",
       "      <td>3</td>\n",
       "      <td>1</td>\n",
       "      <td>26.000000</td>\n",
       "      <td>7.9250</td>\n",
       "      <td>0</td>\n",
       "      <td>0</td>\n",
       "    </tr>\n",
       "    <tr>\n",
       "      <th>3</th>\n",
       "      <td>1</td>\n",
       "      <td>1</td>\n",
       "      <td>1</td>\n",
       "      <td>35.000000</td>\n",
       "      <td>53.1000</td>\n",
       "      <td>1</td>\n",
       "      <td>1</td>\n",
       "    </tr>\n",
       "    <tr>\n",
       "      <th>4</th>\n",
       "      <td>0</td>\n",
       "      <td>3</td>\n",
       "      <td>0</td>\n",
       "      <td>35.000000</td>\n",
       "      <td>8.0500</td>\n",
       "      <td>0</td>\n",
       "      <td>0</td>\n",
       "    </tr>\n",
       "    <tr>\n",
       "      <th>5</th>\n",
       "      <td>0</td>\n",
       "      <td>3</td>\n",
       "      <td>0</td>\n",
       "      <td>29.699118</td>\n",
       "      <td>8.4583</td>\n",
       "      <td>0</td>\n",
       "      <td>0</td>\n",
       "    </tr>\n",
       "    <tr>\n",
       "      <th>6</th>\n",
       "      <td>0</td>\n",
       "      <td>1</td>\n",
       "      <td>0</td>\n",
       "      <td>54.000000</td>\n",
       "      <td>51.8625</td>\n",
       "      <td>0</td>\n",
       "      <td>1</td>\n",
       "    </tr>\n",
       "    <tr>\n",
       "      <th>7</th>\n",
       "      <td>0</td>\n",
       "      <td>3</td>\n",
       "      <td>0</td>\n",
       "      <td>2.000000</td>\n",
       "      <td>21.0750</td>\n",
       "      <td>4</td>\n",
       "      <td>0</td>\n",
       "    </tr>\n",
       "    <tr>\n",
       "      <th>8</th>\n",
       "      <td>1</td>\n",
       "      <td>3</td>\n",
       "      <td>1</td>\n",
       "      <td>27.000000</td>\n",
       "      <td>11.1333</td>\n",
       "      <td>2</td>\n",
       "      <td>0</td>\n",
       "    </tr>\n",
       "    <tr>\n",
       "      <th>9</th>\n",
       "      <td>1</td>\n",
       "      <td>2</td>\n",
       "      <td>1</td>\n",
       "      <td>14.000000</td>\n",
       "      <td>30.0708</td>\n",
       "      <td>1</td>\n",
       "      <td>0</td>\n",
       "    </tr>\n",
       "  </tbody>\n",
       "</table>\n",
       "</div>"
      ],
      "text/plain": [
       "   Survived  Pclass  Sex        Age     Fare  Family_count  Cabin_ind\n",
       "0         0       3    0  22.000000   7.2500             1          0\n",
       "1         1       1    1  38.000000  71.2833             1          1\n",
       "2         1       3    1  26.000000   7.9250             0          0\n",
       "3         1       1    1  35.000000  53.1000             1          1\n",
       "4         0       3    0  35.000000   8.0500             0          0\n",
       "5         0       3    0  29.699118   8.4583             0          0\n",
       "6         0       1    0  54.000000  51.8625             0          1\n",
       "7         0       3    0   2.000000  21.0750             4          0\n",
       "8         1       3    1  27.000000  11.1333             2          0\n",
       "9         1       2    1  14.000000  30.0708             1          0"
      ]
     },
     "execution_count": 9,
     "metadata": {},
     "output_type": "execute_result"
    }
   ],
   "source": [
    "# Read cleaned version of the data\n",
    "df = pd.read_csv('data/titanic_cleaned.csv')\n",
    "df.head(10)"
   ]
  },
  {
   "cell_type": "code",
   "execution_count": 10,
   "metadata": {
    "colab": {
     "base_uri": "https://localhost:8080/"
    },
    "id": "mXAMcpCD99Az",
    "outputId": "372e7295-afe2-4872-924f-94d58318682f"
   },
   "outputs": [
    {
     "name": "stdout",
     "output_type": "stream",
     "text": [
      "<class 'pandas.core.frame.DataFrame'>\n",
      "RangeIndex: 891 entries, 0 to 890\n",
      "Data columns (total 7 columns):\n",
      " #   Column        Non-Null Count  Dtype  \n",
      "---  ------        --------------  -----  \n",
      " 0   Survived      891 non-null    int64  \n",
      " 1   Pclass        891 non-null    int64  \n",
      " 2   Sex           891 non-null    int64  \n",
      " 3   Age           891 non-null    float64\n",
      " 4   Fare          891 non-null    float64\n",
      " 5   Family_count  891 non-null    int64  \n",
      " 6   Cabin_ind     891 non-null    int64  \n",
      "dtypes: float64(2), int64(5)\n",
      "memory usage: 48.9 KB\n"
     ]
    }
   ],
   "source": [
    "# Dataframe fundamental info\n",
    "df.info()"
   ]
  },
  {
   "cell_type": "markdown",
   "metadata": {
    "id": "MVnwjqzO99Az"
   },
   "source": [
    "# 2. Prepare Data Splits"
   ]
  },
  {
   "cell_type": "code",
   "execution_count": 11,
   "metadata": {
    "id": "W9jCChYi99A0"
   },
   "outputs": [],
   "source": [
    "# features — all columns except target variable\n",
    "features = df.drop('Survived', axis=1)\n",
    "\n",
    "# labels — only the target variable column\n",
    "labels = df['Survived']"
   ]
  },
  {
   "cell_type": "code",
   "execution_count": 12,
   "metadata": {
    "colab": {
     "base_uri": "https://localhost:8080/"
    },
    "id": "YZLNvI0Go3RQ",
    "outputId": "4c07e4c6-3fab-4e3b-fb21-8161c8f0def2"
   },
   "outputs": [
    {
     "name": "stdout",
     "output_type": "stream",
     "text": [
      "Train Split: 712 Records, 712 Labels = 79.91%\n",
      "Test Split: 179 Records, 179 Labels = 20.09%\n"
     ]
    }
   ],
   "source": [
    "# Create Train and Test Splits\n",
    "X_train, X_test, y_train, y_test = train_test_split(features, labels, test_size=0.2, random_state=42)\n",
    "\n",
    "# Report Number and Proportion of Train and Test Features and Labels\n",
    "print(f'Train Split: {X_train.shape[0]} Records, {len(y_train)} Labels = {round(len(y_train)/len(labels), 4) * 100}%')\n",
    "print(f'Test Split: {X_test.shape[0]} Records, {len(y_test)} Labels = {round(len(y_test)/len(labels), 4) * 100}%')"
   ]
  },
  {
   "cell_type": "markdown",
   "metadata": {
    "id": "sHOerKL-99A1"
   },
   "source": [
    "# 3. Train Models"
   ]
  },
  {
   "cell_type": "code",
   "execution_count": 15,
   "metadata": {
    "colab": {
     "base_uri": "https://localhost:8080/"
    },
    "id": "dNTMeD9UtGnm",
    "outputId": "59b11cc5-7809-414b-f7f5-cbfb211860fb"
   },
   "outputs": [
    {
     "name": "stdout",
     "output_type": "stream",
     "text": [
      "Trained and ready: LogisticRegression()\n",
      "Trained and ready: DecisionTreeClassifier()\n",
      "Trained and ready: RandomForestClassifier()\n",
      "Trained and ready: GradientBoostingClassifier()\n"
     ]
    }
   ],
   "source": [
    "# Define the models list\n",
    "models = [LogisticRegression(),\n",
    "          DecisionTreeClassifier(),\n",
    "          RandomForestClassifier(),\n",
    "          GradientBoostingClassifier()\n",
    "         ]\n",
    "\n",
    "# Train the models using the training features and labels\n",
    "for model in models: \n",
    "    model.fit(X_train, y_train)\n",
    "    # Report trained model\n",
    "    print(f'Trained and ready: {model}')"
   ]
  },
  {
   "cell_type": "markdown",
   "metadata": {
    "id": "Ra5IbX3R99A4"
   },
   "source": [
    "# 4. Test Models"
   ]
  },
  {
   "cell_type": "code",
   "execution_count": 16,
   "metadata": {
    "colab": {
     "base_uri": "https://localhost:8080/"
    },
    "id": "h25gVxRatGnn",
    "outputId": "ca3bba0e-0482-4e6c-c752-ada0b3e0f8b6"
   },
   "outputs": [
    {
     "name": "stdout",
     "output_type": "stream",
     "text": [
      "LogisticRegression()\n",
      "  82.12290502793296\n",
      "DecisionTreeClassifier()\n",
      "  77.09497206703911\n",
      "RandomForestClassifier()\n",
      "  80.44692737430168\n",
      "GradientBoostingClassifier()\n",
      "  80.44692737430168\n"
     ]
    }
   ],
   "source": [
    "# Test all models on the test split\n",
    "for model in models:\n",
    "    \n",
    "    # Use the model to generate predictions for the Test split, based on its features only\n",
    "    y_pred = model.predict(X_test)\n",
    "\n",
    "    # Compare model's predictive performance to the provided test labels\n",
    "    score = accuracy_score(y_test, y_pred) * 100\n",
    "\n",
    "    # Report the model and its score\n",
    "    print(model)\n",
    "    print(f'  {score}')"
   ]
  },
  {
   "cell_type": "code",
   "execution_count": null,
   "metadata": {
    "id": "4Yfsa8N599A5"
   },
   "outputs": [],
   "source": []
  }
 ],
 "metadata": {
  "colab": {
   "collapsed_sections": [],
   "name": "Titanic Modeling Basic.ipynb",
   "provenance": []
  },
  "kernelspec": {
   "display_name": "Python 3 (ipykernel)",
   "language": "python",
   "name": "python3"
  },
  "language_info": {
   "codemirror_mode": {
    "name": "ipython",
    "version": 3
   },
   "file_extension": ".py",
   "mimetype": "text/x-python",
   "name": "python",
   "nbconvert_exporter": "python",
   "pygments_lexer": "ipython3",
   "version": "3.8.12"
  }
 },
 "nbformat": 4,
 "nbformat_minor": 1
}
